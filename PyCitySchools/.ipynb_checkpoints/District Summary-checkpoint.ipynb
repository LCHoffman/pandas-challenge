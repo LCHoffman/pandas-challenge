{
 "cells": [
  {
   "cell_type": "code",
   "execution_count": 1,
   "metadata": {},
   "outputs": [],
   "source": [
    "# Dependencies and Setup\n",
    "import pandas as pd\n",
    "import numpy as np\n",
    "\n",
    "# File to Load (Remember to Change These)\n",
    "school_data = \"Resources/schools_complete.csv\"\n",
    "student_data = \"Resources/students_complete.csv\"\n",
    "\n",
    "# Read School and Student Data File and store into Pandas DataFrames\n",
    "school_data_df = pd.read_csv(school_data)\n",
    "student_data_df = pd.read_csv(student_data)"
   ]
  },
  {
   "cell_type": "code",
   "execution_count": 2,
   "metadata": {},
   "outputs": [],
   "source": [
    "#DISTRICT LEVEL INFORMATION from school_data_df\n",
    "\n",
    "#Calculate the total number of schools\n",
    "total_schools = len(school_data_df)\n",
    "\n",
    "#Calculate the total number of students\n",
    "district_students = school_data_df[\"size\"].sum()\n",
    "\n",
    "#Calculate the total budget\n",
    "district_budget = school_data_df[\"budget\"].sum()\n"
   ]
  },
  {
   "cell_type": "code",
   "execution_count": 3,
   "metadata": {},
   "outputs": [],
   "source": [
    "#PERCENT PASSING MATH\n",
    "#pull out only passing scores (70 and above)\n",
    "pass_math = []\n",
    "for x in student_data_df[\"math_score\"]:\n",
    "    if x > 69:\n",
    "        pass_math.append(x)\n",
    "#count of students passing math\n",
    "passing_math = len(pass_math)\n",
    "#percent of students passing math\n",
    "percent_math = round(passing_math / district_students * 100, 2)\n",
    "\n",
    "#PERCENT PASSING READING\n",
    "pass_read = []\n",
    "for x in student_data_df[\"reading_score\"]:\n",
    "    if x > 69:\n",
    "        pass_read.append(x)\n",
    "#count of students passing reading\n",
    "passing_read = len(pass_read)\n",
    "#percent of students passing reading\n",
    "percent_read = round(passing_read / district_students * 100, 2)"
   ]
  },
  {
   "cell_type": "code",
   "execution_count": 4,
   "metadata": {},
   "outputs": [],
   "source": [
    "#PERCENT PASSING BOTH\n",
    "#identify who is passing both subjects\n",
    "passing_both_df = student_data_df.loc[(student_data_df[\"reading_score\"] > 69) &\n",
    "                                                 (student_data_df[\"math_score\"] > 69)]\n",
    "#count number passing both\n",
    "passing_both = len(passing_both_df)\n",
    "\n",
    "#calculate percent\n",
    "percent_both = round(passing_both / district_students * 100, 2)"
   ]
  },
  {
   "cell_type": "code",
   "execution_count": 5,
   "metadata": {},
   "outputs": [],
   "source": [
    "#Calculate the average scores\n",
    "Avg_math = round(student_data_df[\"math_score\"].mean(), 2)\n",
    "Avg_read = round(student_data_df[\"reading_score\"].mean(), 2)"
   ]
  },
  {
   "cell_type": "code",
   "execution_count": 6,
   "metadata": {},
   "outputs": [
    {
     "data": {
      "text/html": [
       "<div>\n",
       "<style scoped>\n",
       "    .dataframe tbody tr th:only-of-type {\n",
       "        vertical-align: middle;\n",
       "    }\n",
       "\n",
       "    .dataframe tbody tr th {\n",
       "        vertical-align: top;\n",
       "    }\n",
       "\n",
       "    .dataframe thead th {\n",
       "        text-align: right;\n",
       "    }\n",
       "</style>\n",
       "<table border=\"1\" class=\"dataframe\">\n",
       "  <thead>\n",
       "    <tr style=\"text-align: right;\">\n",
       "      <th></th>\n",
       "      <th>Total Schools</th>\n",
       "      <th>Total Students</th>\n",
       "      <th>Total Budget</th>\n",
       "      <th>Average Math Score</th>\n",
       "      <th>Average Reading Score</th>\n",
       "      <th>% Passing Math</th>\n",
       "      <th>% Passing Reading</th>\n",
       "      <th>% Overall Passing</th>\n",
       "    </tr>\n",
       "  </thead>\n",
       "  <tbody>\n",
       "    <tr>\n",
       "      <th>0</th>\n",
       "      <td>15</td>\n",
       "      <td>39170</td>\n",
       "      <td>$24,649,428.00</td>\n",
       "      <td>78.99</td>\n",
       "      <td>81.88</td>\n",
       "      <td>74.98%</td>\n",
       "      <td>85.81%</td>\n",
       "      <td>65.17%</td>\n",
       "    </tr>\n",
       "  </tbody>\n",
       "</table>\n",
       "</div>"
      ],
      "text/plain": [
       "   Total Schools  Total Students    Total Budget  Average Math Score  \\\n",
       "0             15           39170  $24,649,428.00               78.99   \n",
       "\n",
       "   Average Reading Score % Passing Math % Passing Reading % Overall Passing  \n",
       "0                  81.88         74.98%            85.81%            65.17%  "
      ]
     },
     "execution_count": 6,
     "metadata": {},
     "output_type": "execute_result"
    }
   ],
   "source": [
    "#Build District Summary\n",
    "district_summary_df = pd.DataFrame(\n",
    "    {\"Total Schools\": [total_schools],\n",
    "     \"Total Students\": [district_students],\n",
    "     \"Total Budget\": [district_budget],\n",
    "     \"Average Math Score\": [Avg_math],\n",
    "     \"Average Reading Score\": [Avg_read],\n",
    "     \"% Passing Math\": [percent_math],\n",
    "     \"% Passing Reading\": [percent_read],\n",
    "    \"% Overall Passing\": [percent_both]\n",
    "     }\n",
    ")\n",
    "#Format the District Summary DataFrame\n",
    "district_summary_df[\"Total Budget\"] = district_summary_df[\"Total Budget\"].astype(float).map(\"${:,.2f}\".format)\n",
    "district_summary_df[\"% Passing Math\"] = district_summary_df[\"% Passing Math\"].astype(float).map(\"{:.2f}%\".format)\n",
    "district_summary_df[\"% Passing Reading\"] = district_summary_df[\"% Passing Reading\"].astype(float).map(\"{:.2f}%\".format)\n",
    "district_summary_df[\"% Overall Passing\"] = district_summary_df[\"% Overall Passing\"].astype(float).map(\"{:.2f}%\".format)\n",
    "\n",
    "district_summary_df"
   ]
  }
 ],
 "metadata": {
  "kernelspec": {
   "display_name": "Python [conda env:PythonData] *",
   "language": "python",
   "name": "conda-env-PythonData-py"
  },
  "language_info": {
   "codemirror_mode": {
    "name": "ipython",
    "version": 3
   },
   "file_extension": ".py",
   "mimetype": "text/x-python",
   "name": "python",
   "nbconvert_exporter": "python",
   "pygments_lexer": "ipython3",
   "version": "3.6.10"
  }
 },
 "nbformat": 4,
 "nbformat_minor": 4
}
