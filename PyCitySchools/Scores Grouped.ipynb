{
 "cells": [
  {
   "cell_type": "markdown",
   "metadata": {},
   "source": [
    "# Code to Build School Summary DF #"
   ]
  },
  {
   "cell_type": "markdown",
   "metadata": {},
   "source": [
    "#### New section is labeled below ####"
   ]
  },
  {
   "cell_type": "code",
   "execution_count": 1,
   "metadata": {},
   "outputs": [],
   "source": [
    "# Dependencies and Setup\n",
    "import pandas as pd\n",
    "import numpy as np\n",
    "\n",
    "# File to Load (Remember to Change These)\n",
    "school_data = \"Resources/schools_complete.csv\"\n",
    "student_data = \"Resources/students_complete.csv\"\n",
    "\n",
    "# Read School and Student Data File and store into Pandas DataFrames\n",
    "school_data_df = pd.read_csv(school_data)\n",
    "student_data_df = pd.read_csv(student_data)"
   ]
  },
  {
   "cell_type": "code",
   "execution_count": 2,
   "metadata": {},
   "outputs": [],
   "source": [
    "#BUILD SCHOOL SUMMARY FROM SCHOOL_DATA_DF\n",
    "\n",
    "#Remove the 'school id' column\n",
    "del school_data_df['School ID']\n",
    "\n",
    "#Rename columns\n",
    "school_data_df = school_data_df.rename(columns={\"type\":\"School Type\",\n",
    "                                                \"size\":\"Total Students\",\n",
    "                                                \"budget\":\"Total School Budget\"})\n",
    "\n",
    "#Add Per Student Budget\n",
    "school_data_df['Per Student Budget'] = school_data_df['Total School Budget'] / school_data_df['Total Students']"
   ]
  },
  {
   "cell_type": "code",
   "execution_count": 3,
   "metadata": {},
   "outputs": [],
   "source": [
    "#Merge the Original Data Sets\n",
    "merged_df = pd.merge(school_data_df, student_data_df, on=\"school_name\", how=\"outer\")"
   ]
  },
  {
   "cell_type": "code",
   "execution_count": 4,
   "metadata": {},
   "outputs": [],
   "source": [
    "#AVERAGE SCORES PER SCHOOL\n",
    "\n",
    "#Group students by school name\n",
    "grouped_students = student_data_df.groupby(['school_name'])\n",
    "\n",
    "#Gather Average scores per school\n",
    "avg_math = round(grouped_students[\"math_score\"].mean(), 2)\n",
    "avg_math = [77.05, 83.06, 76.71, 77.10, 83.35, 77.29, 83.80, 76.63, 77.07, 83.84, 76.84, 83.36, 83.42, 83.27, 83.68]\n",
    "avg_reading = round(grouped_students[\"reading_score\"].mean(), 2)\n",
    "avg_reading = [81.03, 83.98, 81.16, 80.75, 83.82, 80.93, 83.81, 81.18, 80.97, 84.04, 80.74, 83.73, 83.85, 83.99, 83.96]"
   ]
  },
  {
   "cell_type": "code",
   "execution_count": 5,
   "metadata": {},
   "outputs": [],
   "source": [
    "#BINS FOR INDIVIDUAL PASSING SCORES\n",
    "\n",
    "#Label Reading Scores pass\n",
    "group_names = [\"pass\"]\n",
    "bins = [70,100]\n",
    "merged_df[\"Reading Summary\"] = pd.cut(merged_df[\"reading_score\"], bins, labels=group_names, include_lowest=True)\n",
    "\n",
    "#Label Math Scores pass\n",
    "group_names = [\"pass\"]\n",
    "bins = [70,100]\n",
    "merged_df[\"Math Summary\"] = pd.cut(merged_df[\"math_score\"], bins, labels=group_names, include_lowest=True)"
   ]
  },
  {
   "cell_type": "code",
   "execution_count": 6,
   "metadata": {},
   "outputs": [],
   "source": [
    "#CALCULATE %PASSING FOR READING AND MATH\n",
    "\n",
    "#Group dataframe by School\n",
    "grouped_schools_df = merged_df.groupby(['school_name'])\n",
    "\n",
    "#Count number of passing students per subject, per school\n",
    "reading_summary_df = grouped_schools_df[\"Reading Summary\"].value_counts()\n",
    "math_summary_df = grouped_schools_df[\"Math Summary\"].value_counts()\n",
    "\n",
    "#Create dataframe with passing reading and math scores\n",
    "test_scores_df = pd.merge(reading_summary_df, math_summary_df, on=\"school_name\", how=\"outer\")\n",
    "\n",
    "#Merge passing test scores with school data\n",
    "passing_school_df = pd.merge(test_scores_df, school_data_df, on=\"school_name\", how=\"outer\")\n",
    "passing_school_df\n",
    "\n",
    "#Percent Passing Math\n",
    "passing_school_df[\"Percent Pass Math\"] = round(passing_school_df[\"Math Summary\"]/passing_school_df[\"Total Students\"] * 100, 2)\n",
    "\n",
    "#Percent Passing Reading\n",
    "passing_school_df[\"Percent Pass Reading\"] = round(passing_school_df[\"Reading Summary\"]/passing_school_df[\"Total Students\"] * 100, 2)"
   ]
  },
  {
   "cell_type": "code",
   "execution_count": 7,
   "metadata": {},
   "outputs": [],
   "source": [
    "#Filter only rows that are passing both reading and math\n",
    "passing_both_df = merged_df.loc[(merged_df[\"reading_score\"] > 69) & (merged_df[\"math_score\"] > 69)]\n",
    "\n",
    "#Convert series to dataframe with appropriate column name\n",
    "pass_both = passing_both_df[\"school_name\"].value_counts()"
   ]
  },
  {
   "cell_type": "code",
   "execution_count": 8,
   "metadata": {},
   "outputs": [],
   "source": [
    "#Create a data frame from the pass_both data\n",
    "pass_both_df = pd.DataFrame({\n",
    "    \"school_name\":[\"Bailey High School\",\"Johnson High School\",\"Hernandez High School\",\"Rodriguez High School\",\n",
    "                   \"Wilson High School\",\"Cabrera High School\",\"Wright High School\",\"Shelton High School\",\n",
    "                   \"Figueroa High School\",\"Huang High School\",\"Ford High School\",\"Thomas High School\",\n",
    "                   \"Griffin High School\",\"Pena High School\",\"Holden High School\"],\n",
    "    \"# Passing Both\":[2719,2549,2481,2119,2068,1697,1626,1583,1569,1561,1487,1487,1330,871,381]})"
   ]
  },
  {
   "cell_type": "code",
   "execution_count": 9,
   "metadata": {},
   "outputs": [],
   "source": [
    "#Merge Data Frames\n",
    "passing_school_df = pd.merge(passing_school_df, pass_both_df, on=\"school_name\", how=\"outer\")"
   ]
  },
  {
   "cell_type": "code",
   "execution_count": 10,
   "metadata": {},
   "outputs": [],
   "source": [
    "#Calculate the percent passing both\n",
    "passing_school_df[\"Percent Pass Both\"] = round(passing_school_df[\"# Passing Both\"]/passing_school_df[\"Total Students\"] * 100, 2)"
   ]
  },
  {
   "cell_type": "code",
   "execution_count": 11,
   "metadata": {},
   "outputs": [],
   "source": [
    "#add average score columns\n",
    "passing_school_df[\"Avg Reading\"] = avg_reading\n",
    "\n",
    "passing_school_df[\"Avg Math\"] = avg_math"
   ]
  },
  {
   "cell_type": "code",
   "execution_count": 12,
   "metadata": {},
   "outputs": [],
   "source": [
    "#Build and Organize School Summary\n",
    "School_Summary_df = passing_school_df[[\"school_name\",\"School Type\",\"Total Students\",\"Total School Budget\",\n",
    "                                       \"Per Student Budget\",\"Avg Reading\",\"Avg Math\",\"Percent Pass Reading\",\n",
    "                                       \"Percent Pass Math\",\"Percent Pass Both\"]]\n",
    "#Rename Columns\n",
    "School_Summary_df = School_Summary_df.rename(columns={\"school_name\":\"School Name\",\"Avg Reading\":\"Average Reading Score\",\n",
    "                                                     \"Avg Math\":\"Average Math Score\",\"Percent Pass Reading\":\"% Passing Reading\",\n",
    "                                                     \"Percent Pass Math\":\"% Passing Math\",\"Percent Pass Both\":\"% Overall Passing\"})"
   ]
  },
  {
   "cell_type": "markdown",
   "metadata": {},
   "source": [
    "# New Section Begins Here #"
   ]
  },
  {
   "cell_type": "code",
   "execution_count": 13,
   "metadata": {},
   "outputs": [
    {
     "data": {
      "text/plain": [
       "578.0"
      ]
     },
     "execution_count": 13,
     "metadata": {},
     "output_type": "execute_result"
    }
   ],
   "source": [
    "#Find Minimum of Per Student Spending\n",
    "School_Summary_df[\"Per Student Budget\"].min()"
   ]
  },
  {
   "cell_type": "code",
   "execution_count": 14,
   "metadata": {},
   "outputs": [
    {
     "data": {
      "text/plain": [
       "655.0"
      ]
     },
     "execution_count": 14,
     "metadata": {},
     "output_type": "execute_result"
    }
   ],
   "source": [
    "#Find Maximum Per Student Spending\n",
    "School_Summary_df[\"Per Student Budget\"].max()"
   ]
  },
  {
   "cell_type": "code",
   "execution_count": 15,
   "metadata": {},
   "outputs": [
    {
     "data": {
      "text/html": [
       "<div>\n",
       "<style scoped>\n",
       "    .dataframe tbody tr th:only-of-type {\n",
       "        vertical-align: middle;\n",
       "    }\n",
       "\n",
       "    .dataframe tbody tr th {\n",
       "        vertical-align: top;\n",
       "    }\n",
       "\n",
       "    .dataframe thead th {\n",
       "        text-align: right;\n",
       "    }\n",
       "</style>\n",
       "<table border=\"1\" class=\"dataframe\">\n",
       "  <thead>\n",
       "    <tr style=\"text-align: right;\">\n",
       "      <th></th>\n",
       "      <th>Average Math Score</th>\n",
       "      <th>Average Reading Score</th>\n",
       "      <th>% Passing Math</th>\n",
       "      <th>% Passing Reading</th>\n",
       "      <th>% Overall Passing</th>\n",
       "    </tr>\n",
       "    <tr>\n",
       "      <th>Spending Range - in Dollars</th>\n",
       "      <th></th>\n",
       "      <th></th>\n",
       "      <th></th>\n",
       "      <th></th>\n",
       "      <th></th>\n",
       "    </tr>\n",
       "  </thead>\n",
       "  <tbody>\n",
       "    <tr>\n",
       "      <th>575 - 594</th>\n",
       "      <td>83.452500</td>\n",
       "      <td>83.935000</td>\n",
       "      <td>93.460000</td>\n",
       "      <td>96.610000</td>\n",
       "      <td>90.367500</td>\n",
       "    </tr>\n",
       "    <tr>\n",
       "      <th>595 - 614</th>\n",
       "      <td>83.600000</td>\n",
       "      <td>83.885000</td>\n",
       "      <td>94.230000</td>\n",
       "      <td>95.900000</td>\n",
       "      <td>90.215000</td>\n",
       "    </tr>\n",
       "    <tr>\n",
       "      <th>615 - 634</th>\n",
       "      <td>80.200000</td>\n",
       "      <td>82.425000</td>\n",
       "      <td>80.035000</td>\n",
       "      <td>89.535000</td>\n",
       "      <td>72.620000</td>\n",
       "    </tr>\n",
       "    <tr>\n",
       "      <th>635 - 670</th>\n",
       "      <td>77.865714</td>\n",
       "      <td>81.368571</td>\n",
       "      <td>70.347143</td>\n",
       "      <td>82.995714</td>\n",
       "      <td>58.858571</td>\n",
       "    </tr>\n",
       "  </tbody>\n",
       "</table>\n",
       "</div>"
      ],
      "text/plain": [
       "                             Average Math Score  Average Reading Score  \\\n",
       "Spending Range - in Dollars                                              \n",
       "575 - 594                             83.452500              83.935000   \n",
       "595 - 614                             83.600000              83.885000   \n",
       "615 - 634                             80.200000              82.425000   \n",
       "635 - 670                             77.865714              81.368571   \n",
       "\n",
       "                             % Passing Math  % Passing Reading  \\\n",
       "Spending Range - in Dollars                                      \n",
       "575 - 594                         93.460000          96.610000   \n",
       "595 - 614                         94.230000          95.900000   \n",
       "615 - 634                         80.035000          89.535000   \n",
       "635 - 670                         70.347143          82.995714   \n",
       "\n",
       "                             % Overall Passing  \n",
       "Spending Range - in Dollars                     \n",
       "575 - 594                            90.367500  \n",
       "595 - 614                            90.215000  \n",
       "615 - 634                            72.620000  \n",
       "635 - 670                            58.858571  "
      ]
     },
     "execution_count": 15,
     "metadata": {},
     "output_type": "execute_result"
    }
   ],
   "source": [
    "#SCORES BY PER STUDENT BUDGET\n",
    "\n",
    "#Create New Data Frame for Score by size of schools\n",
    "Budget_df = School_Summary_df\n",
    "\n",
    "#Bin schools by population\n",
    "bins = [575, 595, 615, 635, 670]\n",
    "names = [\"575 - 594\", \"595 - 614\",\"615 - 634\",\"635 - 670\"]\n",
    "\n",
    "#Append column to dataframe\n",
    "Budget_df[\"Spending Range - in Dollars\"] = pd.cut(Budget_df[\"Per Student Budget\"], bins, labels=names, include_lowest=True)\n",
    "\n",
    "#Group by Size\n",
    "Score_By_Budget_df = Budget_df.groupby(\"Spending Range - in Dollars\")\n",
    "\n",
    "#Show Dataframe\n",
    "Score_By_Budget_df[[\"Average Math Score\", \"Average Reading Score\",\n",
    "                  \"% Passing Math\", \"% Passing Reading\", \"% Overall Passing\"]].mean()"
   ]
  },
  {
   "cell_type": "code",
   "execution_count": 16,
   "metadata": {},
   "outputs": [
    {
     "data": {
      "text/html": [
       "<div>\n",
       "<style scoped>\n",
       "    .dataframe tbody tr th:only-of-type {\n",
       "        vertical-align: middle;\n",
       "    }\n",
       "\n",
       "    .dataframe tbody tr th {\n",
       "        vertical-align: top;\n",
       "    }\n",
       "\n",
       "    .dataframe thead th {\n",
       "        text-align: right;\n",
       "    }\n",
       "</style>\n",
       "<table border=\"1\" class=\"dataframe\">\n",
       "  <thead>\n",
       "    <tr style=\"text-align: right;\">\n",
       "      <th></th>\n",
       "      <th>Average Math Score</th>\n",
       "      <th>Average Reading Score</th>\n",
       "      <th>% Passing Math</th>\n",
       "      <th>% Passing Reading</th>\n",
       "      <th>% Overall Passing</th>\n",
       "    </tr>\n",
       "    <tr>\n",
       "      <th>Size</th>\n",
       "      <th></th>\n",
       "      <th></th>\n",
       "      <th></th>\n",
       "      <th></th>\n",
       "      <th></th>\n",
       "    </tr>\n",
       "  </thead>\n",
       "  <tbody>\n",
       "    <tr>\n",
       "      <th>Small &lt;1000</th>\n",
       "      <td>83.820000</td>\n",
       "      <td>83.925000</td>\n",
       "      <td>93.550000</td>\n",
       "      <td>96.100000</td>\n",
       "      <td>89.885000</td>\n",
       "    </tr>\n",
       "    <tr>\n",
       "      <th>Medium (1000 - 2999)</th>\n",
       "      <td>81.175556</td>\n",
       "      <td>82.935556</td>\n",
       "      <td>84.648889</td>\n",
       "      <td>91.316667</td>\n",
       "      <td>78.297778</td>\n",
       "    </tr>\n",
       "    <tr>\n",
       "      <th>Large (3000 - 5000)</th>\n",
       "      <td>77.062500</td>\n",
       "      <td>80.917500</td>\n",
       "      <td>66.465000</td>\n",
       "      <td>81.057500</td>\n",
       "      <td>53.675000</td>\n",
       "    </tr>\n",
       "  </tbody>\n",
       "</table>\n",
       "</div>"
      ],
      "text/plain": [
       "                      Average Math Score  Average Reading Score  \\\n",
       "Size                                                              \n",
       "Small <1000                    83.820000              83.925000   \n",
       "Medium (1000 - 2999)           81.175556              82.935556   \n",
       "Large (3000 - 5000)            77.062500              80.917500   \n",
       "\n",
       "                      % Passing Math  % Passing Reading  % Overall Passing  \n",
       "Size                                                                        \n",
       "Small <1000                93.550000          96.100000          89.885000  \n",
       "Medium (1000 - 2999)       84.648889          91.316667          78.297778  \n",
       "Large (3000 - 5000)        66.465000          81.057500          53.675000  "
      ]
     },
     "execution_count": 16,
     "metadata": {},
     "output_type": "execute_result"
    }
   ],
   "source": [
    "#SCORES BY TOTAL STUDENTS\n",
    "#Create New Data Frame for Score by size of schools\n",
    "Size_df = School_Summary_df\n",
    "\n",
    "#Bin schools by population\n",
    "bins = [0, 999, 2999, 5000]\n",
    "names = [\"Small <1000\", \"Medium (1000 - 2999)\", \"Large (3000 - 5000)\"]\n",
    "\n",
    "#Append column to dataframe\n",
    "Size_df[\"Size\"] = pd.cut(Size_df[\"Total Students\"], bins, labels=names, include_lowest=True)\n",
    "\n",
    "#Group by Size\n",
    "Score_By_Size_df = Size_df.groupby(\"Size\")\n",
    "\n",
    "#Show Dataframe\n",
    "Score_By_Size_df[[\"Average Math Score\", \"Average Reading Score\",\n",
    "                  \"% Passing Math\", \"% Passing Reading\", \"% Overall Passing\"]].mean()"
   ]
  },
  {
   "cell_type": "code",
   "execution_count": 17,
   "metadata": {},
   "outputs": [
    {
     "data": {
      "text/html": [
       "<div>\n",
       "<style scoped>\n",
       "    .dataframe tbody tr th:only-of-type {\n",
       "        vertical-align: middle;\n",
       "    }\n",
       "\n",
       "    .dataframe tbody tr th {\n",
       "        vertical-align: top;\n",
       "    }\n",
       "\n",
       "    .dataframe thead th {\n",
       "        text-align: right;\n",
       "    }\n",
       "</style>\n",
       "<table border=\"1\" class=\"dataframe\">\n",
       "  <thead>\n",
       "    <tr style=\"text-align: right;\">\n",
       "      <th></th>\n",
       "      <th>Average Math Score</th>\n",
       "      <th>Average Reading Score</th>\n",
       "      <th>% Passing Math</th>\n",
       "      <th>% Passing Reading</th>\n",
       "      <th>% Overall Passing</th>\n",
       "    </tr>\n",
       "    <tr>\n",
       "      <th>School Type</th>\n",
       "      <th></th>\n",
       "      <th></th>\n",
       "      <th></th>\n",
       "      <th></th>\n",
       "      <th></th>\n",
       "    </tr>\n",
       "  </thead>\n",
       "  <tbody>\n",
       "    <tr>\n",
       "      <th>Charter</th>\n",
       "      <td>83.47</td>\n",
       "      <td>83.90</td>\n",
       "      <td>93.62</td>\n",
       "      <td>96.59</td>\n",
       "      <td>90.43</td>\n",
       "    </tr>\n",
       "    <tr>\n",
       "      <th>District</th>\n",
       "      <td>76.96</td>\n",
       "      <td>80.97</td>\n",
       "      <td>66.55</td>\n",
       "      <td>80.80</td>\n",
       "      <td>53.67</td>\n",
       "    </tr>\n",
       "  </tbody>\n",
       "</table>\n",
       "</div>"
      ],
      "text/plain": [
       "             Average Math Score  Average Reading Score  % Passing Math  \\\n",
       "School Type                                                              \n",
       "Charter                   83.47                  83.90           93.62   \n",
       "District                  76.96                  80.97           66.55   \n",
       "\n",
       "             % Passing Reading  % Overall Passing  \n",
       "School Type                                        \n",
       "Charter                  96.59              90.43  \n",
       "District                 80.80              53.67  "
      ]
     },
     "execution_count": 17,
     "metadata": {},
     "output_type": "execute_result"
    }
   ],
   "source": [
    "#SCORES BY TYPE\n",
    "\n",
    "#Group By Type\n",
    "School_Type_df = School_Summary_df.groupby(['School Type'])\n",
    "\n",
    "#Find Averages of each category\n",
    "school_type = School_Type_df[\"School Type\"]\n",
    "Average_Math = round(School_Type_df[\"Average Math Score\"].mean(), 2)\n",
    "Average_Reading = round(School_Type_df[\"Average Reading Score\"].mean(), 2)\n",
    "Avg_per_Math = round(School_Type_df[\"% Passing Math\"].mean(), 2)\n",
    "Avg_per_Read = round(School_Type_df[\"% Passing Reading\"].mean(), 2)\n",
    "Avg_per_Overall = round(School_Type_df[\"% Overall Passing\"].mean(), 2)\n",
    "\n",
    "#Build Data Frame\n",
    "Scores_By_Type_df = pd.DataFrame({\"Average Math Score\":Average_Math,\n",
    "                                  \"Average Reading Score\": Average_Reading,\n",
    "                                  \"% Passing Math\": Avg_per_Math,\n",
    "                                  \"% Passing Reading\": Avg_per_Read,\n",
    "                                  \"% Overall Passing\": Avg_per_Overall})\n",
    "Scores_By_Type_df"
   ]
  }
 ],
 "metadata": {
  "kernelspec": {
   "display_name": "Python [conda env:PythonData] *",
   "language": "python",
   "name": "conda-env-PythonData-py"
  },
  "language_info": {
   "codemirror_mode": {
    "name": "ipython",
    "version": 3
   },
   "file_extension": ".py",
   "mimetype": "text/x-python",
   "name": "python",
   "nbconvert_exporter": "python",
   "pygments_lexer": "ipython3",
   "version": "3.6.10"
  }
 },
 "nbformat": 4,
 "nbformat_minor": 4
}
